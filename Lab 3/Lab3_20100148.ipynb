{
 "cells": [
  {
   "cell_type": "markdown",
   "metadata": {},
   "source": [
    "# Lab 3 - Data Storytelling\n",
    "\n",
    "For this Lab you guys will be going through the thought-process of how Data Scientists in the real world extract, clean, explore and eventually visualize data to make inferences about real-world problems. Since this is a guided-lab it will be graded just as strictly since everything is provided to you.\n",
    "\n",
    "**Note:** Please make sure you use the environment you guys created for Homework 2 - the one which contains Seaborn 0.9.0 - as it would be extremely difficult for you to make the same plots as in the blog post otherwise. Open the Homework 2 notebook if you are unsure on how to switch to that environment.\n",
    "\n",
    "Once again - name the notebooks as Lab3_rollno.ipynb\n",
    "\n",
    "Here are the links you have to follow for this lab (you HAVE to follow both links)\n",
    "\n",
    "[Data Storytelling Part One](https://towardsdatascience.com/homicide-in-chicago-data-storytelling-part-one-e6fbd77afc07)\n",
    "\n",
    "[Data Storytelling Part Two](https://towardsdatascience.com/homicide-in-chicago-data-stroytelling-part-two-e8748602daca)\n"
   ]
  },
  {
   "cell_type": "markdown",
   "metadata": {},
   "source": [
    "## Part 1: Data Cleaning\n",
    "All the plots in the blog-post should be printed in this part. Here all of you have the freedom to break up the cells as you wish - so that you also get practice in that regard."
   ]
  },
  {
   "cell_type": "code",
   "execution_count": 1,
   "metadata": {},
   "outputs": [],
   "source": [
    "# import modules\n",
    "import numpy as np\n",
    "import pandas as pd\n",
    "from pandas import *\n",
    "import os\n",
    "import matplotlib.pyplot as plt\n",
    "import seaborn as sns\n",
    "%matplotlib inline\n",
    "import datetime\n",
    "from scipy import stats\n",
    "sns.set_style(\"darkgrid\")\n",
    "import matplotlib.image as mpimg\n",
    "from IPython.display import IFrame\n",
    "import folium\n",
    "from folium import plugins\n",
    "from folium.plugins import MarkerCluster, FastMarkerCluster, HeatMapWithTime"
   ]
  },
  {
   "cell_type": "code",
   "execution_count": 2,
   "metadata": {},
   "outputs": [
    {
     "data": {
      "text/plain": [
       "(6749001, 22)"
      ]
     },
     "execution_count": 2,
     "metadata": {},
     "output_type": "execute_result"
    }
   ],
   "source": [
    "# use TextFileReader iterable with chunks of 100,000 rows.\n",
    "tp = read_csv('Crimes_-_2001_to_present.csv', iterator=True, chunksize=100000)  \n",
    "crime_data = concat(tp, ignore_index=True)  \n",
    "\n",
    "# print data's shape\n",
    "crime_data.shape"
   ]
  },
  {
   "cell_type": "code",
   "execution_count": 3,
   "metadata": {},
   "outputs": [
    {
     "name": "stdout",
     "output_type": "stream",
     "text": [
      "<class 'pandas.core.frame.DataFrame'>\n",
      "RangeIndex: 6749001 entries, 0 to 6749000\n",
      "Data columns (total 22 columns):\n",
      "ID                      int64\n",
      "Case Number             object\n",
      "Date                    object\n",
      "Block                   object\n",
      "IUCR                    object\n",
      "Primary Type            object\n",
      "Description             object\n",
      "Location Description    object\n",
      "Arrest                  bool\n",
      "Domestic                bool\n",
      "Beat                    int64\n",
      "District                float64\n",
      "Ward                    float64\n",
      "Community Area          float64\n",
      "FBI Code                object\n",
      "X Coordinate            float64\n",
      "Y Coordinate            float64\n",
      "Year                    int64\n",
      "Updated On              object\n",
      "Latitude                float64\n",
      "Longitude               float64\n",
      "Location                object\n",
      "dtypes: bool(2), float64(7), int64(3), object(10)\n",
      "memory usage: 1.0+ GB\n"
     ]
    }
   ],
   "source": [
    "crime_data.info()"
   ]
  },
  {
   "cell_type": "code",
   "execution_count": 4,
   "metadata": {},
   "outputs": [
    {
     "data": {
      "text/html": [
       "<div>\n",
       "<style scoped>\n",
       "    .dataframe tbody tr th:only-of-type {\n",
       "        vertical-align: middle;\n",
       "    }\n",
       "\n",
       "    .dataframe tbody tr th {\n",
       "        vertical-align: top;\n",
       "    }\n",
       "\n",
       "    .dataframe thead th {\n",
       "        text-align: right;\n",
       "    }\n",
       "</style>\n",
       "<table border=\"1\" class=\"dataframe\">\n",
       "  <thead>\n",
       "    <tr style=\"text-align: right;\">\n",
       "      <th></th>\n",
       "      <th>ID</th>\n",
       "      <th>Case Number</th>\n",
       "      <th>Date</th>\n",
       "      <th>Block</th>\n",
       "      <th>IUCR</th>\n",
       "      <th>Primary Type</th>\n",
       "      <th>Description</th>\n",
       "      <th>Location Description</th>\n",
       "      <th>Arrest</th>\n",
       "      <th>Domestic</th>\n",
       "      <th>...</th>\n",
       "      <th>Ward</th>\n",
       "      <th>Community Area</th>\n",
       "      <th>FBI Code</th>\n",
       "      <th>X Coordinate</th>\n",
       "      <th>Y Coordinate</th>\n",
       "      <th>Year</th>\n",
       "      <th>Updated On</th>\n",
       "      <th>Latitude</th>\n",
       "      <th>Longitude</th>\n",
       "      <th>Location</th>\n",
       "    </tr>\n",
       "  </thead>\n",
       "  <tbody>\n",
       "    <tr>\n",
       "      <th>0</th>\n",
       "      <td>10000092</td>\n",
       "      <td>HY189866</td>\n",
       "      <td>03/18/2015 07:44:00 PM</td>\n",
       "      <td>047XX W OHIO ST</td>\n",
       "      <td>041A</td>\n",
       "      <td>BATTERY</td>\n",
       "      <td>AGGRAVATED: HANDGUN</td>\n",
       "      <td>STREET</td>\n",
       "      <td>False</td>\n",
       "      <td>False</td>\n",
       "      <td>...</td>\n",
       "      <td>28.0</td>\n",
       "      <td>25.0</td>\n",
       "      <td>04B</td>\n",
       "      <td>1144606.0</td>\n",
       "      <td>1903566.0</td>\n",
       "      <td>2015</td>\n",
       "      <td>02/10/2018 03:50:01 PM</td>\n",
       "      <td>41.891399</td>\n",
       "      <td>-87.744385</td>\n",
       "      <td>(41.891398861, -87.744384567)</td>\n",
       "    </tr>\n",
       "    <tr>\n",
       "      <th>1</th>\n",
       "      <td>10000094</td>\n",
       "      <td>HY190059</td>\n",
       "      <td>03/18/2015 11:00:00 PM</td>\n",
       "      <td>066XX S MARSHFIELD AVE</td>\n",
       "      <td>4625</td>\n",
       "      <td>OTHER OFFENSE</td>\n",
       "      <td>PAROLE VIOLATION</td>\n",
       "      <td>STREET</td>\n",
       "      <td>True</td>\n",
       "      <td>False</td>\n",
       "      <td>...</td>\n",
       "      <td>15.0</td>\n",
       "      <td>67.0</td>\n",
       "      <td>26</td>\n",
       "      <td>1166468.0</td>\n",
       "      <td>1860715.0</td>\n",
       "      <td>2015</td>\n",
       "      <td>02/10/2018 03:50:01 PM</td>\n",
       "      <td>41.773372</td>\n",
       "      <td>-87.665319</td>\n",
       "      <td>(41.773371528, -87.665319468)</td>\n",
       "    </tr>\n",
       "    <tr>\n",
       "      <th>2</th>\n",
       "      <td>10000095</td>\n",
       "      <td>HY190052</td>\n",
       "      <td>03/18/2015 10:45:00 PM</td>\n",
       "      <td>044XX S LAKE PARK AVE</td>\n",
       "      <td>0486</td>\n",
       "      <td>BATTERY</td>\n",
       "      <td>DOMESTIC BATTERY SIMPLE</td>\n",
       "      <td>APARTMENT</td>\n",
       "      <td>False</td>\n",
       "      <td>True</td>\n",
       "      <td>...</td>\n",
       "      <td>4.0</td>\n",
       "      <td>39.0</td>\n",
       "      <td>08B</td>\n",
       "      <td>1185075.0</td>\n",
       "      <td>1875622.0</td>\n",
       "      <td>2015</td>\n",
       "      <td>02/10/2018 03:50:01 PM</td>\n",
       "      <td>41.813861</td>\n",
       "      <td>-87.596643</td>\n",
       "      <td>(41.81386068, -87.596642837)</td>\n",
       "    </tr>\n",
       "    <tr>\n",
       "      <th>3</th>\n",
       "      <td>10000096</td>\n",
       "      <td>HY190054</td>\n",
       "      <td>03/18/2015 10:30:00 PM</td>\n",
       "      <td>051XX S MICHIGAN AVE</td>\n",
       "      <td>0460</td>\n",
       "      <td>BATTERY</td>\n",
       "      <td>SIMPLE</td>\n",
       "      <td>APARTMENT</td>\n",
       "      <td>False</td>\n",
       "      <td>False</td>\n",
       "      <td>...</td>\n",
       "      <td>3.0</td>\n",
       "      <td>40.0</td>\n",
       "      <td>08B</td>\n",
       "      <td>1178033.0</td>\n",
       "      <td>1870804.0</td>\n",
       "      <td>2015</td>\n",
       "      <td>02/10/2018 03:50:01 PM</td>\n",
       "      <td>41.800802</td>\n",
       "      <td>-87.622619</td>\n",
       "      <td>(41.800802415, -87.622619343)</td>\n",
       "    </tr>\n",
       "    <tr>\n",
       "      <th>4</th>\n",
       "      <td>10000097</td>\n",
       "      <td>HY189976</td>\n",
       "      <td>03/18/2015 09:00:00 PM</td>\n",
       "      <td>047XX W ADAMS ST</td>\n",
       "      <td>031A</td>\n",
       "      <td>ROBBERY</td>\n",
       "      <td>ARMED: HANDGUN</td>\n",
       "      <td>SIDEWALK</td>\n",
       "      <td>False</td>\n",
       "      <td>False</td>\n",
       "      <td>...</td>\n",
       "      <td>28.0</td>\n",
       "      <td>25.0</td>\n",
       "      <td>03</td>\n",
       "      <td>1144920.0</td>\n",
       "      <td>1898709.0</td>\n",
       "      <td>2015</td>\n",
       "      <td>02/10/2018 03:50:01 PM</td>\n",
       "      <td>41.878065</td>\n",
       "      <td>-87.743354</td>\n",
       "      <td>(41.878064761, -87.743354013)</td>\n",
       "    </tr>\n",
       "  </tbody>\n",
       "</table>\n",
       "<p>5 rows × 22 columns</p>\n",
       "</div>"
      ],
      "text/plain": [
       "         ID Case Number                    Date                   Block  IUCR  \\\n",
       "0  10000092    HY189866  03/18/2015 07:44:00 PM         047XX W OHIO ST  041A   \n",
       "1  10000094    HY190059  03/18/2015 11:00:00 PM  066XX S MARSHFIELD AVE  4625   \n",
       "2  10000095    HY190052  03/18/2015 10:45:00 PM   044XX S LAKE PARK AVE  0486   \n",
       "3  10000096    HY190054  03/18/2015 10:30:00 PM    051XX S MICHIGAN AVE  0460   \n",
       "4  10000097    HY189976  03/18/2015 09:00:00 PM        047XX W ADAMS ST  031A   \n",
       "\n",
       "    Primary Type              Description Location Description  Arrest  \\\n",
       "0        BATTERY      AGGRAVATED: HANDGUN               STREET   False   \n",
       "1  OTHER OFFENSE         PAROLE VIOLATION               STREET    True   \n",
       "2        BATTERY  DOMESTIC BATTERY SIMPLE            APARTMENT   False   \n",
       "3        BATTERY                   SIMPLE            APARTMENT   False   \n",
       "4        ROBBERY           ARMED: HANDGUN             SIDEWALK   False   \n",
       "\n",
       "   Domestic              ...                Ward  Community Area  FBI Code  \\\n",
       "0     False              ...                28.0            25.0       04B   \n",
       "1     False              ...                15.0            67.0        26   \n",
       "2      True              ...                 4.0            39.0       08B   \n",
       "3     False              ...                 3.0            40.0       08B   \n",
       "4     False              ...                28.0            25.0        03   \n",
       "\n",
       "   X Coordinate Y Coordinate  Year              Updated On   Latitude  \\\n",
       "0     1144606.0    1903566.0  2015  02/10/2018 03:50:01 PM  41.891399   \n",
       "1     1166468.0    1860715.0  2015  02/10/2018 03:50:01 PM  41.773372   \n",
       "2     1185075.0    1875622.0  2015  02/10/2018 03:50:01 PM  41.813861   \n",
       "3     1178033.0    1870804.0  2015  02/10/2018 03:50:01 PM  41.800802   \n",
       "4     1144920.0    1898709.0  2015  02/10/2018 03:50:01 PM  41.878065   \n",
       "\n",
       "   Longitude                       Location  \n",
       "0 -87.744385  (41.891398861, -87.744384567)  \n",
       "1 -87.665319  (41.773371528, -87.665319468)  \n",
       "2 -87.596643   (41.81386068, -87.596642837)  \n",
       "3 -87.622619  (41.800802415, -87.622619343)  \n",
       "4 -87.743354  (41.878064761, -87.743354013)  \n",
       "\n",
       "[5 rows x 22 columns]"
      ]
     },
     "execution_count": 4,
     "metadata": {},
     "output_type": "execute_result"
    }
   ],
   "source": [
    "crime_data.head()"
   ]
  },
  {
   "cell_type": "code",
   "execution_count": 5,
   "metadata": {},
   "outputs": [
    {
     "data": {
      "text/plain": [
       "(array(['ARSON', 'ASSAULT', 'BATTERY', 'BURGLARY',\n",
       "        'CONCEALED CARRY LICENSE VIOLATION', 'CRIM SEXUAL ASSAULT',\n",
       "        'CRIMINAL DAMAGE', 'CRIMINAL TRESPASS', 'DECEPTIVE PRACTICE',\n",
       "        'DOMESTIC VIOLENCE', 'GAMBLING', 'HOMICIDE', 'HUMAN TRAFFICKING',\n",
       "        'INTERFERENCE WITH PUBLIC OFFICER', 'INTIMIDATION', 'KIDNAPPING',\n",
       "        'LIQUOR LAW VIOLATION', 'MOTOR VEHICLE THEFT', 'NARCOTICS',\n",
       "        'NON - CRIMINAL', 'NON-CRIMINAL',\n",
       "        'NON-CRIMINAL (SUBJECT SPECIFIED)', 'OBSCENITY',\n",
       "        'OFFENSE INVOLVING CHILDREN', 'OTHER NARCOTIC VIOLATION',\n",
       "        'OTHER OFFENSE', 'PROSTITUTION', 'PUBLIC INDECENCY',\n",
       "        'PUBLIC PEACE VIOLATION', 'RITUALISM', 'ROBBERY', 'SEX OFFENSE',\n",
       "        'STALKING', 'THEFT', 'WEAPONS VIOLATION'], dtype=object), 35)"
      ]
     },
     "execution_count": 5,
     "metadata": {},
     "output_type": "execute_result"
    }
   ],
   "source": [
    "# preview all crime variables in the \"Primary Type\" column\n",
    "\n",
    "crimes = crime_data['Primary Type'].sort_values().unique()\n",
    "crimes, len(crimes)"
   ]
  },
  {
   "cell_type": "code",
   "execution_count": null,
   "metadata": {},
   "outputs": [],
   "source": [
    "# Created a scatter plot of X and Y coordinates vs all crime data available in the dataset\n",
    "\n",
    "crime_data = crime_data.loc[(crime_data['X Coordinate']!=0)]\n",
    "\n",
    "sns.lmplot('X Coordinate', \n",
    "           'Y Coordinate',\n",
    "           data=crime_data[:],\n",
    "           fit_reg=False, \n",
    "           hue=\"District\",\n",
    "           palette='Dark2',\n",
    "           height=12,\n",
    "           ci=2,\n",
    "           scatter_kws={\"marker\": \"D\", \n",
    "                        \"s\": 10})\n",
    "ax = plt.gca()\n",
    "ax.set_title(\"All Crime Distribution per District\")"
   ]
  },
  {
   "cell_type": "code",
   "execution_count": null,
   "metadata": {},
   "outputs": [],
   "source": [
    "# create and preview dataframe containing crimes associated with gang violence\n",
    "\n",
    "col2 = ['Date','Primary Type','Arrest','Domestic','District','X Coordinate','Y Coordinate']\n",
    "multiple_crimes = crime_data[col2]\n",
    "multiple_crimes = multiple_crimes[multiple_crimes['Primary Type']\\\n",
    "                  .isin(['HOMICIDE','CONCEALED CARRY LICENSE VIOLATION','NARCOTICS','WEAPONS VIOLATION'])]\n",
    "\n",
    "# clean some rouge (0,0) coordinates\n",
    "multiple_crimes = multiple_crimes[multiple_crimes['X Coordinate']!=0]\n",
    "\n",
    "multiple_crimes.head()"
   ]
  },
  {
   "cell_type": "code",
   "execution_count": null,
   "metadata": {},
   "outputs": [],
   "source": [
    "# geographical distribution scatter plots by crime\n",
    "g = sns.lmplot(x=\"X Coordinate\",\n",
    "               y=\"Y Coordinate\",\n",
    "               col=\"Primary Type\",\n",
    "               data=multiple_crimes.dropna(), \n",
    "               col_wrap=2, height=6, fit_reg=False, \n",
    "               sharey=False,\n",
    "               scatter_kws={\"marker\": \"D\",\n",
    "                            \"s\": 10})"
   ]
  },
  {
   "cell_type": "code",
   "execution_count": null,
   "metadata": {},
   "outputs": [],
   "source": [
    "# create a dataframe with Homicide as the only crime\n",
    "\n",
    "df_homicideN = crime_data[crime_data['Primary Type']=='HOMICIDE']\n",
    "df_homicideN.head()"
   ]
  },
  {
   "cell_type": "code",
   "execution_count": null,
   "metadata": {},
   "outputs": [],
   "source": [
    "# print some attributes of our new homicide dataframe\n",
    "\n",
    "df_homicideN.info()"
   ]
  },
  {
   "cell_type": "code",
   "execution_count": null,
   "metadata": {},
   "outputs": [],
   "source": [
    "# find null values in our dataframe\n",
    "\n",
    "df_homicideN.isnull().sum()"
   ]
  },
  {
   "cell_type": "code",
   "execution_count": null,
   "metadata": {},
   "outputs": [],
   "source": [
    "# drop null values\n",
    "\n",
    "df_homicide = df_homicideN.dropna()"
   ]
  },
  {
   "cell_type": "code",
   "execution_count": null,
   "metadata": {},
   "outputs": [],
   "source": [
    "# create a list of columns to keep and update the dataframe with new columns\n",
    "\n",
    "keep_cols = ['Year','Date','Primary Type','Arrest','Domestic','District','Location Description',\n",
    "             'FBI Code','X Coordinate','Y Coordinate','Latitude','Longitude','Location']\n",
    "\n",
    "df_homicide = df_homicide[keep_cols].reset_index()\n",
    "df_homicide.head()"
   ]
  },
  {
   "cell_type": "code",
   "execution_count": null,
   "metadata": {},
   "outputs": [],
   "source": [
    "# change string Date to datetime.datetime format\n",
    "\n",
    "df_homicide['Date'] = df_homicide['Date'].apply(lambda x: datetime.datetime.strptime(x,\"%m/%d/%Y %I:%M:%S %p\"))\n",
    "df_homicide.head()"
   ]
  },
  {
   "cell_type": "code",
   "execution_count": null,
   "metadata": {},
   "outputs": [],
   "source": [
    "# create new columns from date column -- Year, Month, Day, Hour, Minutes, DayOfWeek \n",
    "\n",
    "df_homicide['Year'] = df_homicide['Date'].dt.year\n",
    "df_homicide['Month'] = df_homicide['Date'].dt.month\n",
    "df_homicide['Day'] = df_homicide['Date'].dt.day\n",
    "df_homicide['Weekday'] = df_homicide['Date'].dt.dayofweek\n",
    "df_homicide['HourOfDay'] = df_homicide['Date'].dt.hour\n",
    "\n",
    "df_homicide = df_homicide.sort_values('Date')\n",
    "# print columns list and info\n",
    "\n",
    "df_homicide.info()"
   ]
  },
  {
   "cell_type": "code",
   "execution_count": null,
   "metadata": {},
   "outputs": [],
   "source": [
    "# save cleaned data to pickle file \n",
    "df_homicide.to_pickle('df_homicide.pkl') \n",
    "print('pickle size:', os.stat('df_homicide.pkl').st_size)"
   ]
  },
  {
   "cell_type": "code",
   "execution_count": 1,
   "metadata": {},
   "outputs": [
    {
     "ename": "NameError",
     "evalue": "name 'pd' is not defined",
     "output_type": "error",
     "traceback": [
      "\u001b[1;31m---------------------------------------------------------------------------\u001b[0m",
      "\u001b[1;31mNameError\u001b[0m                                 Traceback (most recent call last)",
      "\u001b[1;32m<ipython-input-1-f9a92fb0537a>\u001b[0m in \u001b[0;36m<module>\u001b[1;34m()\u001b[0m\n\u001b[0;32m      1\u001b[0m \u001b[1;31m# load pickled data\u001b[0m\u001b[1;33m\u001b[0m\u001b[1;33m\u001b[0m\u001b[0m\n\u001b[1;32m----> 2\u001b[1;33m \u001b[0mdf_homicide\u001b[0m \u001b[1;33m=\u001b[0m \u001b[0mpd\u001b[0m\u001b[1;33m.\u001b[0m\u001b[0mread_pickle\u001b[0m\u001b[1;33m(\u001b[0m\u001b[1;34m'df_homicide.pkl'\u001b[0m\u001b[1;33m)\u001b[0m\u001b[1;33m\u001b[0m\u001b[0m\n\u001b[0m",
      "\u001b[1;31mNameError\u001b[0m: name 'pd' is not defined"
     ]
    }
   ],
   "source": [
    "# load pickled data \n",
    "df_homicide = pd.read_pickle('df_homicide.pkl')"
   ]
  },
  {
   "cell_type": "markdown",
   "metadata": {},
   "source": [
    "## Part 2: Data Exploration and Visualization\n",
    "Make sure ALL plots are printed just like in the blog-post. Although you can of course add details of your own if you wish and carry out some exploration on your own."
   ]
  },
  {
   "cell_type": "code",
   "execution_count": null,
   "metadata": {},
   "outputs": [],
   "source": [
    "# plot all homicides in dataset by location per District\n",
    "\n",
    "df_homicide = df_homicide.loc[(df_homicide['X Coordinate']!=0)]\n",
    "\n",
    "sns.lmplot('X Coordinate',\n",
    "           'Y Coordinate',\n",
    "           data=df_homicide[:],\n",
    "           fit_reg=False, \n",
    "           hue=\"District\", \n",
    "           palette='Dark2',\n",
    "           height=12,\n",
    "           ci=2,\n",
    "           scatter_kws={\"marker\": \"D\", \n",
    "                        \"s\": 10}) \n",
    "ax = plt.gca()\n",
    "ax.set_title(\"All Homicides (2001-2018) per District\")"
   ]
  },
  {
   "cell_type": "code",
   "execution_count": null,
   "metadata": {},
   "outputs": [],
   "source": [
    "# plot bar chart of homicide rates for all years\n",
    "\n",
    "plt.figure(figsize=(12,6))\n",
    "sns.barplot(x='Year',\n",
    "            y='HOMICIDE',\n",
    "            data=df_homicide.groupby(['Year'])['Primary Type'].value_counts().\\\n",
    "                 unstack().reset_index(),\n",
    "            color='steelblue').\\\n",
    "            set_title(\"CHICAGO MURDER RATES: 2001 - 2018\")"
   ]
  },
  {
   "cell_type": "code",
   "execution_count": null,
   "metadata": {},
   "outputs": [],
   "source": [
    "# plot homicides sorted by month\n",
    "\n",
    "fig, ax = plt.subplots(figsize=(14,6))\n",
    "month_nms = ['January','February','March','April','May','June','July','August'\\\n",
    "             ,'September','October','November','December']    \n",
    "fig = sns.barplot(x='Month',\n",
    "                  y='HOMICIDE',\n",
    "                  data=df_homicide.groupby(['Year','Month'])['Primary Type'].\\\n",
    "                  value_counts().unstack().reset_index(),\n",
    "                  color='#808080')\n",
    "ax.set_xticklabels(month_nms)\n",
    "plt.title(\"CHICAGO MURDER RATES by MONTH -- All Years\")\n",
    "\n",
    "# -------------------------------------------\n",
    "\n",
    "# plot average monthly temps in Chicago\n",
    "# source of data:  ncdc.noaa.gov\n",
    "\n",
    "mntemp = [26.5,31,39.5,49.5,59.5,70,76,75.5,68,56,44,32]\n",
    "df_temps = pd.DataFrame(list(zip(month_nms,mntemp)),\n",
    "                       columns=['Month','AVERAGE TEMPERATURE'])\n",
    "fig, ax = plt.subplots(figsize=(14,6))\n",
    "sns.barplot(x='Month', y='AVERAGE TEMPERATURE', data=df_temps,color='steelblue')"
   ]
  },
  {
   "cell_type": "code",
   "execution_count": null,
   "metadata": {},
   "outputs": [],
   "source": [
    "# plot homicide rates vs. day of the week\n",
    "\n",
    "fig, ax = plt.subplots(figsize=(14,6))\n",
    "week_days = ['Sunday','Monday','Tuesday','Wednesday','Thursday','Friday','Saturday']    \n",
    "fig = sns.barplot(x='Weekday',\n",
    "                  y='HOMICIDE',\n",
    "                  data=df_homicide.groupby(['Year','Weekday'])['Primary Type'].\\\n",
    "                       value_counts().unstack().reset_index(),\n",
    "                  color='steelblue')\n",
    "ax.set_xticklabels(week_days)\n",
    "plt.title('HOMICIDE BY DAY OF THE WEEK -- All Years')"
   ]
  },
  {
   "cell_type": "code",
   "execution_count": null,
   "metadata": {},
   "outputs": [],
   "source": [
    "# use seaborn barplot to plot homicides vs. hour of the day \n",
    "\n",
    "fig, ax = plt.subplots(figsize=(14,6))\n",
    "fig = sns.barplot(x='HourOfDay',\n",
    "                  y='HOMICIDE',\n",
    "                  data=df_homicide.groupby(['Year','HourOfDay'])['Primary Type'].\\\n",
    "                       value_counts().unstack().reset_index(),\n",
    "                  color='steelblue',\n",
    "                  alpha=.75)\n",
    "plt.title('HOMICIDE BY HOUR OF THE DAY -- All Years')"
   ]
  },
  {
   "cell_type": "code",
   "execution_count": null,
   "metadata": {},
   "outputs": [],
   "source": [
    "# plot domestic variable vs. homicide variable\n",
    "\n",
    "fig, ax = plt.subplots(figsize=(14,6))\n",
    "df_arrest = df_homicide[['Year','Domestic']]\n",
    "ax = sns.countplot(x=\"Year\",\n",
    "                   hue='Domestic',\n",
    "                   data=df_arrest,\n",
    "                   palette=\"Blues_d\")\n",
    "plt.title('HOMICIDE - DOMESTIC STATS BY YEAR')"
   ]
  },
  {
   "cell_type": "code",
   "execution_count": null,
   "metadata": {},
   "outputs": [],
   "source": [
    "# visualize the \"scene of the crime\" vs. number of occurences at such scene\n",
    "\n",
    "crime_scene = df_homicide['Primary Type'].\\\n",
    "            groupby(df_homicide['Location Description']).\\\n",
    "            value_counts().\\\n",
    "            unstack().\\\n",
    "            sort_values('HOMICIDE',ascending=False).\\\n",
    "            reset_index()\n",
    "    \n",
    "# Top Homicide Crime Scene Locations\n",
    "crime_scene.head(10)"
   ]
  },
  {
   "cell_type": "code",
   "execution_count": null,
   "metadata": {},
   "outputs": [],
   "source": [
    "# create a count plot for all crime scene locations\n",
    "\n",
    "g = sns.catplot(x='Location Description',\n",
    "                   y='HOMICIDE',\n",
    "                   data=crime_scene,\n",
    "                   kind='bar',\n",
    "                   height=10,\n",
    "                   color='steelblue', \n",
    "                   saturation=10)\n",
    "\n",
    "g.fig.set_size_inches(15,5)\n",
    "g.set_xticklabels(rotation=90)\n",
    "plt.title('CRIME SCENE BY LOCATION FREQUENCY')"
   ]
  },
  {
   "cell_type": "code",
   "execution_count": null,
   "metadata": {},
   "outputs": [],
   "source": [
    "# create a heatmap showing crime by district by year\n",
    "\n",
    "corr = df_homicide.groupby(['District','Year']).count().Date.unstack()\n",
    "fig, ax = plt.subplots(figsize=(15,13))\n",
    "sns.set(font_scale=1.0)\n",
    "sns.heatmap(corr.dropna(axis=1),\n",
    "            annot=True,\n",
    "           linewidths=0.2,\n",
    "           cmap='Blues',\n",
    "            robust=True,\n",
    "           cbar_kws={'label': 'HOMICIDES'})\n",
    "plt.title('HOMICIDE vs DISTRICT vs YEAR')"
   ]
  },
  {
   "cell_type": "code",
   "execution_count": null,
   "metadata": {},
   "outputs": [],
   "source": [
    "with sns.plotting_context('notebook',font_scale=1.5):\n",
    "    sorted_homicides = df_homicide[df_homicide['Year']>=2016].groupby(['District']).count()\\\n",
    "                    .Arrest.reset_index().sort_values('Arrest',ascending=False)\n",
    "    fig, ax = plt.subplots(figsize=(14,6))\n",
    "    sns.barplot(x='District',\n",
    "                y='Arrest',\n",
    "                data=sorted_homicides,\n",
    "                color='steelblue',\n",
    "                order = list(sorted_homicides['District']),\n",
    "                label='big')\n",
    "    plt.title('HOMICIDES PER DISTRICT (2016-2017) - Highest to Lowest')"
   ]
  },
  {
   "cell_type": "code",
   "execution_count": null,
   "metadata": {},
   "outputs": [],
   "source": [
    "# create seaborn countplots  for whole dataset\n",
    "\n",
    "fig, ax = plt.subplots(figsize=(14,6))\n",
    "df_arrest = df_homicide[['Year','Arrest']]\n",
    "ax = sns.countplot(x=\"Year\",\n",
    "                   hue='Arrest',\n",
    "                   data=df_arrest,\n",
    "                   palette=\"PuBuGn_d\")\n",
    "plt.title('HOMICIDE - ARRESTS STATS BY YEAR')"
   ]
  },
  {
   "cell_type": "code",
   "execution_count": null,
   "metadata": {},
   "outputs": [],
   "source": [
    "# create seaborn countplots for 2016 and 2017 -- high crime rate spike years\n",
    "\n",
    "fig, ax = plt.subplots(figsize=(14,6))\n",
    "ax = sns.countplot(x=\"Month\",\n",
    "                   hue='Arrest',\n",
    "                   data=df_homicide[df_homicide['Year']>=2016][['Month','Arrest']],\n",
    "                   palette=\"PuBuGn_d\")\n",
    "month_nms = ['January','February','March','April','May','June','July',\\\n",
    "             'August','September','October','November','December']    \n",
    "ax.set_xticklabels(month_nms)\n",
    "plt.title('HOMICIDE - ARRESTS STATS BY MONTH -- (2016-2018)')"
   ]
  },
  {
   "cell_type": "code",
   "execution_count": null,
   "metadata": {},
   "outputs": [],
   "source": [
    "# create seaborn lmplot to compare arrest rates for different districts\n",
    "\n",
    "dfx = df_homicide[df_homicide['District'].\\\n",
    "                isin(list(sorted_homicides.head(10)['District']))].\\\n",
    "                groupby(['District','Year','Month','Arrest'])['Primary Type'].\\\n",
    "                value_counts().unstack().reset_index()\n",
    "\n",
    "with sns.plotting_context('notebook',font_scale=1.25):\n",
    "    sns.set_context(\"notebook\", font_scale=1.15)\n",
    "\n",
    "    g = sns.lmplot('Year','HOMICIDE',\n",
    "                   col='District',\n",
    "                   col_wrap=5,\n",
    "                   height=5,\n",
    "                   aspect=0.5,\n",
    "                   sharex=False,\n",
    "                   data=dfx[:],\n",
    "                   fit_reg=True,\n",
    "                   hue=\"Arrest\", \n",
    "                   palette=sns.color_palette(\"seismic_r\", 2),\n",
    "                   scatter_kws={\"marker\": \"o\",\n",
    "                            \"s\": 7},\n",
    "                   line_kws={\"lw\":0.7})"
   ]
  },
  {
   "cell_type": "code",
   "execution_count": null,
   "metadata": {},
   "outputs": [],
   "source": [
    "# plot chloropleth maps 2001 - 2017\n",
    "def toString(x):\n",
    "    return str(int(x))\n",
    "\n",
    "df_homicide_allyears = df_homicide.groupby(['District']).count().Arrest.reset_index()\n",
    "df_homicide_allyears['District'] = df_homicide_allyears['District'].apply(toString)\n",
    "\n",
    "# ______________________________________________________#\n",
    "\n",
    "chicago = location=[41.85, -87.68]\n",
    "m = folium.Map(chicago,\n",
    "               zoom_start=10)\n",
    "\n",
    "plugins.Fullscreen(\n",
    "    position='topright',\n",
    "    title='Expand me',\n",
    "    title_cancel='Exit me',\n",
    "    force_separate_button=True).add_to(m)\n",
    "\n",
    "m.choropleth(\n",
    "    geo_data='chicago_police_districts.geojson',\n",
    "    name='choropleth',\n",
    "    data=df_homicide_allyears,\n",
    "    columns=['District', 'Arrest'],\n",
    "    key_on='feature.properties.dist_num',\n",
    "    fill_color='YlOrRd', \n",
    "    fill_opacity=0.4, \n",
    "    line_opacity=0.2,\n",
    "    legend_name='Choropleth of Homicide per Police District : 2001-2017',\n",
    "    highlight=True\n",
    "    )\n",
    "folium.TileLayer('openstreetmap').add_to(m)\n",
    "folium.TileLayer('cartodbpositron').add_to(m)\n",
    "folium.LayerControl().add_to(m)\n",
    "m.save(\"map1.html\") \n",
    "IFrame('map1.html', width=990, height=700)\n",
    "\n",
    "# plot 2016-2018 chloropleth map"
   ]
  },
  {
   "cell_type": "code",
   "execution_count": null,
   "metadata": {},
   "outputs": [],
   "source": [
    "# plot 2016-2018 chloropleth map\n",
    "\n",
    "def toString(x):\n",
    "    return str(int(x))\n",
    "\n",
    "df_homicide_after_2015 = df_homicide[df_homicide['Year']>=2016].groupby(['District']).count().Arrest.reset_index()\n",
    "df_homicide_after_2015['District'] = df_homicide_after_2015['District'].apply(toString)\n",
    "\n",
    "# ______________________________________________________#\n",
    "\n",
    "chicago = location=[41.85, -87.68]\n",
    "m = folium.Map(chicago,\n",
    "               zoom_start=10)\n",
    "\n",
    "plugins.Fullscreen(\n",
    "    position='topright',\n",
    "    title='Expand me',\n",
    "    title_cancel='Exit me',\n",
    "    force_separate_button=True).add_to(m)\n",
    "\n",
    "m.choropleth(\n",
    "    geo_data='chicago_police_districts.geojson',\n",
    "    name='choropleth',\n",
    "    data=df_homicide_after_2015,\n",
    "    columns=['District', 'Arrest'],\n",
    "    key_on='feature.properties.dist_num',\n",
    "    fill_color='YlOrRd', \n",
    "    fill_opacity=0.4, \n",
    "    line_opacity=0.2,\n",
    "    legend_name='Homicide per Police District : 2016-2017',\n",
    "    highlight=True\n",
    "    )\n",
    "folium.TileLayer('openstreetmap').add_to(m)\n",
    "folium.TileLayer('cartodbpositron').add_to(m)\n",
    "folium.LayerControl().add_to(m)\n",
    "m.save(\"map2.html\") \n",
    "IFrame('map2.html', width=990, height=700)"
   ]
  },
  {
   "cell_type": "code",
   "execution_count": null,
   "metadata": {},
   "outputs": [],
   "source": [
    "# plot heatmap all districts -- (2016-2018)\n",
    "\n",
    "after_2015_geo = []\n",
    "for index, row in df_homicide[df_homicide['Year']>=2016][['Latitude','Longitude','District']].dropna().iterrows():\n",
    "    after_2015_geo.append([row[\"Latitude\"], row[\"Longitude\"],row['District']])\n",
    "# ___________________________________________________________________\n",
    "chicago = location=[41.85, -87.68]\n",
    "m = folium.Map(chicago, zoom_start=9.5,control_scale = False)\n",
    "\n",
    "plugins.Fullscreen(\n",
    "    position='topright',\n",
    "    title='Expand me',\n",
    "    title_cancel='Exit me',\n",
    "    force_separate_button=True).add_to(m)\n",
    "\n",
    "m.choropleth(\n",
    "    geo_data='chicago_police_districts.geojson',\n",
    "    name='choropleth',\n",
    "    data=df_homicide_after_2015,\n",
    "    columns=['District', 'Arrest'],\n",
    "    key_on='feature.properties.dist_num',\n",
    "    fill_color='YlOrRd', \n",
    "    fill_opacity=0.4, \n",
    "    line_opacity=0.2,\n",
    "    legend_name='HeatMap Homicides : 2016-2017',\n",
    "    highlight=True\n",
    "    )\n",
    "m.add_child(plugins.HeatMap(after_2015_geo,\n",
    "                            name='all_homicides_2016_to_2017',\n",
    "                            radius=5,\n",
    "                            max_zoom=1,\n",
    "                            blur=10, \n",
    "                            max_val=3.0))\n",
    "folium.TileLayer('openstreetmap').add_to(m)\n",
    "folium.TileLayer('cartodbpositron').add_to(m)\n",
    "folium.LayerControl().add_to(m)\n",
    "m.save(\"map3.html\") \n",
    "IFrame('map3.html', width=990, height=700)"
   ]
  },
  {
   "cell_type": "code",
   "execution_count": null,
   "metadata": {},
   "outputs": [],
   "source": [
    "# geo locations of homicides crime scenes -- 2016-2017\n",
    "\n",
    "df_homicide_after_2015 = df_homicide[df_homicide['Year']>=2016].groupby(['District']).count().Arrest.reset_index()\n",
    "df_homicide_after_2015['District'] = df_homicide_after_2015['District'].apply(toString)\n",
    "\n",
    "after_2015 = df_homicide[df_homicide['Year']>=2016].dropna()\n",
    "\n",
    "# _____________________________________________\n",
    "\n",
    "lats = list(after_2015.Latitude)\n",
    "longs = list(after_2015.Longitude)\n",
    "locations = [lats,longs]\n",
    "\n",
    "m = folium.Map(\n",
    "    location=[np.mean(lats), np.mean(longs)],\n",
    "    zoom_start=10.3\n",
    ")\n",
    "\n",
    "plugins.Fullscreen(\n",
    "    position='topright',\n",
    "    title='Expand me',\n",
    "    title_cancel='Exit me',\n",
    "    force_separate_button=True).add_to(m)\n",
    "\n",
    "FastMarkerCluster(data=list(zip(lats, longs))).add_to(m)\n",
    "\n",
    "m.choropleth(\n",
    "    geo_data='chicago_police_districts.geojson',\n",
    "    name='choropleth',\n",
    "    data=df_homicide_after_2015,\n",
    "    columns=['District', 'Arrest'],\n",
    "    key_on='feature.properties.dist_num',\n",
    "    fill_color='YlOrRd', \n",
    "    fill_opacity=0.4, \n",
    "    line_opacity=0.2,\n",
    "    legend_name='Homicides : 2016-2017',\n",
    "    highlight=False\n",
    "    )\n",
    "\n",
    "# folium.TileLayer('openstreetmap').add_to(m)\n",
    "folium.TileLayer('cartodbpositron').add_to(m)\n",
    "folium.LayerControl().add_to(m)\n",
    "m.save(\"map5.html\") \n",
    "IFrame('map5.html', width=990, height=700)"
   ]
  },
  {
   "cell_type": "code",
   "execution_count": null,
   "metadata": {},
   "outputs": [],
   "source": [
    "# geo locations of homicides -- January, February 2018\n",
    "\n",
    "df_homicide_2018 = df_homicide[df_homicide['Year']==2018].groupby(['District']).count().Arrest.reset_index()\n",
    "df_homicide_2018['District'] = df_homicide_2018['District'].apply(toString)\n",
    "\n",
    "only_2018 = df_homicide[df_homicide['Year']==2018].dropna()\n",
    "\n",
    "# _____________________________________________\n",
    "\n",
    "lats = list(only_2018.Latitude)\n",
    "longs = list(only_2018.Longitude)\n",
    "locations = [lats,longs]\n",
    "\n",
    "m = folium.Map(\n",
    "    location=[np.mean(lats), np.mean(longs)],\n",
    "    zoom_start=10.3\n",
    ")\n",
    "\n",
    "plugins.Fullscreen(\n",
    "    position='topright',\n",
    "    title='Expand me',\n",
    "    title_cancel='Exit me',\n",
    "    force_separate_button=True).add_to(m)\n",
    "\n",
    "FastMarkerCluster(data=list(zip(lats, longs))).add_to(m)\n",
    "\n",
    "m.choropleth(\n",
    "    geo_data='chicago_police_districts.geojson',\n",
    "    name='choropleth',\n",
    "    data=df_homicide_2018,\n",
    "    columns=['District', 'Arrest'],\n",
    "    key_on='feature.properties.dist_num',\n",
    "    fill_color='YlOrRd', \n",
    "    fill_opacity=0.4, \n",
    "    line_opacity=0.2,\n",
    "    legend_name='Homicides : January, February 2018',\n",
    "    highlight=False\n",
    "    )\n",
    "\n",
    "# folium.TileLayer('openstreetmap').add_to(m)\n",
    "folium.TileLayer('cartodbpositron').add_to(m)\n",
    "folium.LayerControl().add_to(m)\n",
    "m.save(\"map6.html\") \n",
    "IFrame('map6.html', width=990, height=700)"
   ]
  },
  {
   "cell_type": "markdown",
   "metadata": {},
   "source": [
    "## Part 3: Individual Inferences\n",
    "Make *any* visualization to show an inference that you can make about the dataset that is not covered in the lab itself. Remember since it is a guided lab - this part might be the only thing that would make a difference in the marks! You can even go beyond Homicide rates and pick up - instead - any other crime that is not covered in the lab."
   ]
  },
  {
   "cell_type": "code",
   "execution_count": null,
   "metadata": {},
   "outputs": [],
   "source": [
    "# Print the number of kidnapping instances reported\n",
    "print(len(crime_data[crime_data['Primary Type'] == 'KIDNAPPING']))"
   ]
  },
  {
   "cell_type": "code",
   "execution_count": null,
   "metadata": {},
   "outputs": [],
   "source": [
    "# create a dataframe with Kidnapping as the only crime\n",
    "\n",
    "df_kidnappingN = crime_data[crime_data['Primary Type']=='KIDNAPPING']\n",
    "df_kidnappingN.head()"
   ]
  },
  {
   "cell_type": "code",
   "execution_count": null,
   "metadata": {},
   "outputs": [],
   "source": [
    "# print some attributes of our new kidnapping dataframe\n",
    "\n",
    "df_kidnappingN.info()"
   ]
  },
  {
   "cell_type": "code",
   "execution_count": null,
   "metadata": {},
   "outputs": [],
   "source": [
    "# find null values in our dataframe\n",
    "\n",
    "df_kidnappingN.isnull().sum()"
   ]
  },
  {
   "cell_type": "code",
   "execution_count": null,
   "metadata": {},
   "outputs": [],
   "source": [
    "# drop null values\n",
    "\n",
    "df_kidnapping = df_kidnappingN.dropna()\n",
    "# df_kidnapping = df_kidnappingN\n",
    "print('Size of kidnapping dataframe with nulls: ', len(df_kidnappingN))\n",
    "print('Size of kidnapping dataframe without nulls: ', len(df_kidnapping))"
   ]
  },
  {
   "cell_type": "code",
   "execution_count": null,
   "metadata": {},
   "outputs": [],
   "source": [
    "# create a list of columns to keep and update the dataframe with new columns\n",
    "\n",
    "keep_cols = ['Year','Date','Primary Type','Arrest','Domestic','District','Location Description',\n",
    "             'FBI Code','X Coordinate','Y Coordinate','Latitude','Longitude','Location']\n",
    "\n",
    "df_kidnapping = df_kidnapping[keep_cols].reset_index()\n",
    "df_kidnappingN = df_kidnappingN[keep_cols].reset_index()\n",
    "# df_kidnapping.head()"
   ]
  },
  {
   "cell_type": "code",
   "execution_count": null,
   "metadata": {},
   "outputs": [],
   "source": [
    "# change string Date to datetime.datetime format\n",
    "\n",
    "df_kidnapping['Date'] = df_kidnapping['Date'].apply(lambda x: datetime.datetime.strptime(x,\"%m/%d/%Y %I:%M:%S %p\"))\n",
    "df_kidnappingN['Date'] = df_kidnappingN['Date'].apply(lambda x: datetime.datetime.strptime(x,\"%m/%d/%Y %I:%M:%S %p\"))\n",
    "df_kidnapping.head()"
   ]
  },
  {
   "cell_type": "code",
   "execution_count": null,
   "metadata": {},
   "outputs": [],
   "source": [
    "# create new columns from date column -- Year, Month, Day, Hour, Minutes, DayOfWeek \n",
    "\n",
    "df_kidnapping['Year'] = df_kidnapping['Date'].dt.year\n",
    "df_kidnapping['Month'] = df_kidnapping['Date'].dt.month\n",
    "df_kidnapping['Day'] = df_kidnapping['Date'].dt.day\n",
    "df_kidnapping['Weekday'] = df_kidnapping['Date'].dt.dayofweek\n",
    "df_kidnapping['HourOfDay'] = df_kidnapping['Date'].dt.hour\n",
    "\n",
    "df_kidnapping = df_kidnapping.sort_values('Date')\n",
    "# print columns list and info\n",
    "\n",
    "df_kidnapping.shape\n",
    "# print(df_kidnapping)\n",
    "\n",
    "df_kidnappingN['Year'] = df_kidnappingN['Date'].dt.year\n",
    "df_kidnappingN['Month'] = df_kidnappingN['Date'].dt.month\n",
    "df_kidnappingN['Day'] = df_kidnappingN['Date'].dt.day\n",
    "df_kidnappingN['Weekday'] = df_kidnappingN['Date'].dt.dayofweek\n",
    "df_kidnappingN['HourOfDay'] = df_kidnappingN['Date'].dt.hour\n",
    "\n",
    "df_kidnappingN = df_kidnappingN.sort_values('Date')"
   ]
  },
  {
   "cell_type": "code",
   "execution_count": null,
   "metadata": {},
   "outputs": [],
   "source": [
    "# save cleaned data to pickle file \n",
    "df_kidnapping.to_pickle('df_kidnapping.pkl') \n",
    "print('pickle size:', os.stat('df_kidnapping.pkl').st_size)\n",
    "\n",
    "df_kidnappingN.to_pickle('df_kidnappingN.pkl') \n",
    "print('pickle size:', os.stat('df_kidnappingN.pkl').st_size)\n",
    "\n",
    "# load pickled data \n",
    "df_kidnapping = pd.read_pickle('df_kidnapping.pkl')\n",
    "df_kidnappingN = pd.read_pickle('df_kidnappingN.pkl')"
   ]
  },
  {
   "cell_type": "code",
   "execution_count": null,
   "metadata": {},
   "outputs": [],
   "source": [
    "# plot all kidnapping (with nulls) in dataset by location per District\n",
    "\n",
    "df_kidnappingN = df_kidnappingN.loc[(df_kidnappingN['X Coordinate']!=0)]\n",
    "\n",
    "sns.lmplot('X Coordinate',\n",
    "           'Y Coordinate',\n",
    "           data=df_kidnappingN[:],\n",
    "           fit_reg=False, \n",
    "           hue=\"District\", \n",
    "           palette='Dark2',\n",
    "           height=12,\n",
    "           ci=2,\n",
    "           scatter_kws={\"marker\": \"D\", \n",
    "                        \"s\": 10}) \n",
    "ax = plt.gca()\n",
    "ax.set_title(\"All Kidnapping (with nulls) (2001-2018) per District\")"
   ]
  },
  {
   "cell_type": "code",
   "execution_count": null,
   "metadata": {},
   "outputs": [],
   "source": [
    "# plot all kidnapping (non-null) in dataset by location per District\n",
    "\n",
    "df_kidnapping = df_kidnapping.loc[(df_kidnapping['X Coordinate']!=0)]\n",
    "\n",
    "sns.lmplot('X Coordinate',\n",
    "           'Y Coordinate',\n",
    "           data=df_kidnapping[:],\n",
    "           fit_reg=False, \n",
    "           hue=\"District\", \n",
    "           palette='Dark2',\n",
    "           height=12,\n",
    "           ci=2,\n",
    "           scatter_kws={\"marker\": \"D\", \n",
    "                        \"s\": 10}) \n",
    "ax = plt.gca()\n",
    "ax.set_title(\"All Kidnapping (2001-2018) per District\")"
   ]
  },
  {
   "cell_type": "markdown",
   "metadata": {},
   "source": [
    "Unlike homicides, we can see that kidnappings are not very concenterated in specific regions but appears to be equally\n",
    "distributed"
   ]
  },
  {
   "cell_type": "code",
   "execution_count": null,
   "metadata": {},
   "outputs": [],
   "source": [
    "# plot bar chart of kidnapping (with nulls) rates for all years\n",
    "\n",
    "plt.figure(figsize=(12,6))\n",
    "sns.barplot(x='Year',\n",
    "            y='KIDNAPPING',\n",
    "            data=df_kidnappingN.groupby(['Year'])['Primary Type'].value_counts().\\\n",
    "                 unstack().reset_index(),\n",
    "            color='steelblue').\\\n",
    "            set_title(\"CHICAGO KIDNAPPING (with nulls) RATES: 2001 - 2018\")"
   ]
  },
  {
   "cell_type": "code",
   "execution_count": null,
   "metadata": {},
   "outputs": [],
   "source": [
    "# plot bar chart of kidnapping rates for all years\n",
    "\n",
    "plt.figure(figsize=(12,6))\n",
    "sns.barplot(x='Year',\n",
    "            y='KIDNAPPING',\n",
    "            data=df_kidnapping.groupby(['Year'])['Primary Type'].value_counts().\\\n",
    "                 unstack().reset_index(),\n",
    "            color='steelblue').\\\n",
    "            set_title(\"CHICAGO KIDNAPPING RATES: 2001 - 2018\")\n",
    "# df_kidnapping.loc[df_kidnapping['Year'] == 2001]"
   ]
  },
  {
   "cell_type": "markdown",
   "metadata": {},
   "source": [
    "We see a lot of decrease by dropping nulls from the dataset. Year 2001 appears to be the most affected by dropping nulls. Let's see how many nulls are there"
   ]
  },
  {
   "cell_type": "code",
   "execution_count": null,
   "metadata": {},
   "outputs": [],
   "source": [
    "print(len(df_kidnappingN) - len(df_kidnapping))\n",
    "print(len(df_kidnapping.loc[df_kidnapping['Year'] == 2001]))"
   ]
  },
  {
   "cell_type": "markdown",
   "metadata": {},
   "source": [
    "A lot of this null are actully missing co-ordinates, so this does not add much to out data. Year 2001 has only one non null row so I will be dropping it and concentrating focus on 2002 and afterwards"
   ]
  },
  {
   "cell_type": "code",
   "execution_count": null,
   "metadata": {},
   "outputs": [],
   "source": [
    "# Drop Year 2001\n",
    "df_2002_kidnapping = df_kidnapping[df_kidnapping.Year != 2001]\n",
    "print(len(df_2002_kidnapping.loc[df_kidnapping['Year'] == 2001]))"
   ]
  },
  {
   "cell_type": "code",
   "execution_count": null,
   "metadata": {},
   "outputs": [],
   "source": [
    "# plot bar chart of kidnapping rates for all years 2002 - 2018\n",
    "\n",
    "plt.figure(figsize=(12,6))\n",
    "sns.barplot(x='Year',\n",
    "            y='KIDNAPPING',\n",
    "            data=df_2002_kidnapping.groupby(['Year'])['Primary Type'].value_counts().\\\n",
    "                 unstack().reset_index(),\n",
    "            color='steelblue').\\\n",
    "            set_title(\"CHICAGO KIDNAPPING RATES: 2002 - 2018\")"
   ]
  },
  {
   "cell_type": "code",
   "execution_count": null,
   "metadata": {},
   "outputs": [],
   "source": [
    "# plot kidnappings sorted by month\n",
    "\n",
    "fig, ax = plt.subplots(figsize=(14,6))\n",
    "month_nms = ['January','February','March','April','May','June','July','August'\\\n",
    "             ,'September','October','November','December']    \n",
    "fig = sns.barplot(x='Month',\n",
    "                  y='KIDNAPPING',\n",
    "                  data=df_2002_kidnapping.groupby(['Year','Month'])['Primary Type'].\\\n",
    "                  value_counts().unstack().reset_index(),\n",
    "                  color='#808080')\n",
    "ax.set_xticklabels(month_nms)\n",
    "plt.title(\"CHICAGO KIDNAPPINGS RATES by MONTH -- 2002 - 2018\")\n",
    "\n",
    "# -------------------------------------------\n",
    "\n",
    "# plot average monthly temps in Chicago\n",
    "# source of data:  ncdc.noaa.gov\n",
    "\n",
    "mntemp = [26.5,31,39.5,49.5,59.5,70,76,75.5,68,56,44,32]\n",
    "df_temps = pd.DataFrame(list(zip(month_nms,mntemp)),\n",
    "                       columns=['Month','AVERAGE TEMPERATURE'])\n",
    "fig, ax = plt.subplots(figsize=(14,6))\n",
    "sns.barplot(x='Month', y='AVERAGE TEMPERATURE', data=df_temps,color='steelblue')"
   ]
  },
  {
   "cell_type": "markdown",
   "metadata": {},
   "source": [
    "Apparently there is no direct relation between kidnappings and average temperature"
   ]
  },
  {
   "cell_type": "code",
   "execution_count": null,
   "metadata": {},
   "outputs": [],
   "source": [
    "# plot kidnappings rates vs. day of the week\n",
    "\n",
    "fig, ax = plt.subplots(figsize=(14,6))\n",
    "week_days = ['Sunday','Monday','Tuesday','Wednesday','Thursday','Friday','Saturday']    \n",
    "fig = sns.barplot(x='Weekday',\n",
    "                  y='KIDNAPPING',\n",
    "                  data=df_2002_kidnapping.groupby(['Year','Weekday'])['Primary Type'].\\\n",
    "                       value_counts().unstack().reset_index(),\n",
    "                  color='steelblue')\n",
    "ax.set_xticklabels(week_days)\n",
    "plt.title('KIDNAPPINGS BY DAY OF THE WEEK -- 2002 - 2018')"
   ]
  },
  {
   "cell_type": "markdown",
   "metadata": {},
   "source": [
    "So, kidanppings on Thursdays are much higher than rest of the week. On the other hand, all days other than Thursday have similar number of kidnappings"
   ]
  },
  {
   "cell_type": "code",
   "execution_count": null,
   "metadata": {},
   "outputs": [],
   "source": [
    "# use seaborn barplot to plot kidnappings vs. hour of the day \n",
    "\n",
    "fig, ax = plt.subplots(figsize=(14,6))\n",
    "fig = sns.barplot(x='HourOfDay',\n",
    "                  y='KIDNAPPING',\n",
    "                  data=df_2002_kidnapping.groupby(['Year','HourOfDay'])['Primary Type'].\\\n",
    "                       value_counts().unstack().reset_index(),\n",
    "                  color='steelblue',\n",
    "                  alpha=.75)\n",
    "plt.title('KIDNAPPING BY HOUR OF THE DAY -- 2002 - 2018')"
   ]
  },
  {
   "cell_type": "markdown",
   "metadata": {},
   "source": [
    "Here's something interesting. Unlike homicide, kidnappings have higher number during day time. There as clear spikes at 8am and 3pm, which are typically school starting and ending times respectively. After 3pm, kidnapping keep dropping gradually until 6am in the next morning."
   ]
  },
  {
   "cell_type": "code",
   "execution_count": null,
   "metadata": {},
   "outputs": [],
   "source": [
    "# visualize the \"scene of the crime\" vs. number of occurences at such scene\n",
    "\n",
    "crime_scene_kidnapping = df_2002_kidnapping['Primary Type'].\\\n",
    "            groupby(df_2002_kidnapping['Location Description']).\\\n",
    "            value_counts().\\\n",
    "            unstack().\\\n",
    "            sort_values('KIDNAPPING',ascending=False).\\\n",
    "            reset_index()\n",
    "    \n",
    "# Top Homicide Crime Scene Locations\n",
    "crime_scene_kidnapping.head(10)"
   ]
  },
  {
   "cell_type": "code",
   "execution_count": null,
   "metadata": {},
   "outputs": [],
   "source": [
    "# create a count plot for all crime scene locations\n",
    "\n",
    "g = sns.catplot(x='Location Description',\n",
    "                   y='KIDNAPPING',\n",
    "                   data=crime_scene_kidnapping,\n",
    "                   kind='bar',\n",
    "                   height=10,\n",
    "                   color='steelblue', \n",
    "                   saturation=10)\n",
    "\n",
    "g.fig.set_size_inches(15,5)\n",
    "g.set_xticklabels(rotation=90)\n",
    "plt.title('CRIME SCENE BY LOCATION FREQUENCY')"
   ]
  },
  {
   "cell_type": "markdown",
   "metadata": {},
   "source": [
    "Streets have the highest number of kidnappings as expected, but the presence of residence as 2nd highest is particularly unexpected"
   ]
  },
  {
   "cell_type": "code",
   "execution_count": null,
   "metadata": {},
   "outputs": [],
   "source": [
    "with sns.plotting_context('notebook',font_scale=1.5):\n",
    "    sorted_kidnappings = df_2002_kidnapping[df_2002_kidnapping['Year']>=2002].groupby(['District']).count()\\\n",
    "                    .Arrest.reset_index().sort_values('Arrest',ascending=False)\n",
    "    fig, ax = plt.subplots(figsize=(14,6))\n",
    "    sns.barplot(x='District',\n",
    "                y='Arrest',\n",
    "                data=sorted_kidnappings,\n",
    "                color='steelblue',\n",
    "                order = list(sorted_kidnappings['District']),\n",
    "                label='big')\n",
    "    plt.title('KIDNAPPINGS PER DISTRICT (2002-2018) - Highest to Lowest')"
   ]
  },
  {
   "cell_type": "markdown",
   "metadata": {},
   "source": [
    "Well top 3 districts are not same as homicide so that's a relieve"
   ]
  },
  {
   "cell_type": "code",
   "execution_count": null,
   "metadata": {},
   "outputs": [],
   "source": [
    "# create seaborn countplots  for whole dataset\n",
    "\n",
    "fig, ax = plt.subplots(figsize=(14,6))\n",
    "df_arrest_kidnapping = df_2002_kidnapping[['Year','Arrest']]\n",
    "ax = sns.countplot(x=\"Year\",\n",
    "                   hue='Arrest',\n",
    "                   data=df_arrest_kidnapping,\n",
    "                   palette=\"PuBuGn_d\")\n",
    "plt.title('KIDNAPPINGS - ARRESTS STATS BY YEAR')"
   ]
  },
  {
   "cell_type": "markdown",
   "metadata": {},
   "source": [
    "Situtaions for arrests in kidnapping cases also does not look very promising. Arrests have steadily decreased over time. \n",
    "Since number of kidnappings has also decreased so this factor might also be kept in mind."
   ]
  },
  {
   "cell_type": "code",
   "execution_count": null,
   "metadata": {},
   "outputs": [],
   "source": [
    "# create seaborn countplots\n",
    "\n",
    "fig, ax = plt.subplots(figsize=(14,6))\n",
    "ax = sns.countplot(x=\"Month\",\n",
    "                   hue='Arrest',\n",
    "                   data=df_2002_kidnapping[df_2002_kidnapping['Year']>=2002][['Month','Arrest']],\n",
    "                   palette=\"PuBuGn_d\")\n",
    "month_nms = ['January','February','March','April','May','June','July',\\\n",
    "             'August','September','October','November','December']    \n",
    "ax.set_xticklabels(month_nms)\n",
    "plt.title('KIDNAPPINGS - ARRESTS STATS BY MONTH')"
   ]
  },
  {
   "cell_type": "markdown",
   "metadata": {},
   "source": [
    "May and August have slightly higher arrest rates, may be due schools close and open in those months respectively"
   ]
  },
  {
   "cell_type": "code",
   "execution_count": null,
   "metadata": {},
   "outputs": [],
   "source": [
    "# create seaborn lmplot to compare arrest rates for different districts\n",
    "\n",
    "dfx = df_2002_kidnapping[df_2002_kidnapping['District'].\\\n",
    "                isin(list(sorted_kidnappings.head(10)['District']))].\\\n",
    "                groupby(['District','Year','Month','Arrest'])['Primary Type'].\\\n",
    "                value_counts().unstack().reset_index()\n",
    "\n",
    "with sns.plotting_context('notebook',font_scale=1.25):\n",
    "    sns.set_context(\"notebook\", font_scale=1.15)\n",
    "\n",
    "    g = sns.lmplot('Year','KIDNAPPING',\n",
    "                   col='District',\n",
    "                   col_wrap=5,\n",
    "                   height=5,\n",
    "                   aspect=0.5,\n",
    "                   sharex=False,\n",
    "                   data=dfx[:],\n",
    "                   fit_reg=True,\n",
    "                   hue=\"Arrest\", \n",
    "                   palette=sns.color_palette(\"seismic_r\", 2),\n",
    "                   scatter_kws={\"marker\": \"o\",\n",
    "                            \"s\": 7},\n",
    "                   line_kws={\"lw\":0.7})"
   ]
  },
  {
   "cell_type": "markdown",
   "metadata": {},
   "source": [
    "Arrest rates have been declining for all the districts, because of declining number of kidnapping incidents"
   ]
  },
  {
   "cell_type": "code",
   "execution_count": null,
   "metadata": {},
   "outputs": [],
   "source": [
    "# plot chloropleth maps 2002 - 2018\n",
    "def toString(x):\n",
    "    return str(int(x))\n",
    "\n",
    "df_kidnapping_allyears = df_kidnapping.groupby(['District']).count().Arrest.reset_index()\n",
    "df_kidnapping_allyears['District'] = df_kidnapping_allyears['District'].apply(toString)\n",
    "\n",
    "# ______________________________________________________#\n",
    "\n",
    "chicago = location=[41.85, -87.68]\n",
    "m = folium.Map(chicago,\n",
    "               zoom_start=10)\n",
    "\n",
    "plugins.Fullscreen(\n",
    "    position='topright',\n",
    "    title='Expand me',\n",
    "    title_cancel='Exit me',\n",
    "    force_separate_button=True).add_to(m)\n",
    "\n",
    "m.choropleth(\n",
    "    geo_data='chicago_police_districts.geojson',\n",
    "    name='choropleth',\n",
    "    data=df_kidnapping_allyears,\n",
    "    columns=['District', 'Arrest'],\n",
    "    key_on='feature.properties.dist_num',\n",
    "    fill_color='YlOrRd', \n",
    "    fill_opacity=0.4, \n",
    "    line_opacity=0.2,\n",
    "    legend_name='Choropleth of Kidnappings per Police District : 2002-2018',\n",
    "    highlight=True\n",
    "    )\n",
    "folium.TileLayer('openstreetmap').add_to(m)\n",
    "folium.TileLayer('cartodbpositron').add_to(m)\n",
    "folium.LayerControl().add_to(m)\n",
    "m.save(\"map7.html\") \n",
    "IFrame('map7.html', width=990, height=700)"
   ]
  },
  {
   "cell_type": "code",
   "execution_count": null,
   "metadata": {},
   "outputs": [],
   "source": [
    "# plot heatmap all districts -- (2002-2018)\n",
    "\n",
    "df_kidnapping_after_2001 = df_kidnapping[df_kidnapping['Year']>=2002].groupby(['District']).count().Arrest.reset_index()\n",
    "df_kidnapping_after_2001['District'] = df_kidnapping_after_2001['District'].apply(toString)\n",
    "\n",
    "after_2001_geo = []\n",
    "for index, row in df_kidnapping[df_kidnapping['Year']>=2002][['Latitude','Longitude','District']].dropna().iterrows():\n",
    "    after_2001_geo.append([row[\"Latitude\"], row[\"Longitude\"],row['District']])\n",
    "# ___________________________________________________________________\n",
    "chicago = location=[41.85, -87.68]\n",
    "m = folium.Map(chicago, zoom_start=9.5,control_scale = False)\n",
    "\n",
    "plugins.Fullscreen(\n",
    "    position='topright',\n",
    "    title='Expand me',\n",
    "    title_cancel='Exit me',\n",
    "    force_separate_button=True).add_to(m)\n",
    "\n",
    "m.choropleth(\n",
    "    geo_data='chicago_police_districts.geojson',\n",
    "    name='choropleth',\n",
    "    data=df_kidnapping_after_2001,\n",
    "    columns=['District', 'Arrest'],\n",
    "    key_on='feature.properties.dist_num',\n",
    "    fill_color='YlOrRd', \n",
    "    fill_opacity=0.4, \n",
    "    line_opacity=0.2,\n",
    "    legend_name='HeatMap Kidnapping : 2002 - 2018',\n",
    "    highlight=True\n",
    "    )\n",
    "m.add_child(plugins.HeatMap(after_2001_geo,\n",
    "                            name='all_kidnappings_2002_to_2018',\n",
    "                            radius=5,\n",
    "                            max_zoom=1,\n",
    "                            blur=10, \n",
    "                            max_val=3.0))\n",
    "folium.TileLayer('openstreetmap').add_to(m)\n",
    "folium.TileLayer('cartodbpositron').add_to(m)\n",
    "folium.LayerControl().add_to(m)\n",
    "m.save(\"map8.html\") \n",
    "IFrame('map8.html', width=990, height=700)"
   ]
  },
  {
   "cell_type": "markdown",
   "metadata": {},
   "source": [
    "Apparently kidnappings seems to distributed over the most of the Chicago. No kidnappings at airport lol"
   ]
  },
  {
   "cell_type": "code",
   "execution_count": null,
   "metadata": {},
   "outputs": [],
   "source": [
    "# geo locations of kidnappings crime scenes -- 2002 - 2018\n",
    "\n",
    "# df_homicide_after_2015 = df_homicide[df_homicide['Year']>=2016].groupby(['District']).count().Arrest.reset_index()\n",
    "# df_homicide_after_2015['District'] = df_homicide_after_2015['District'].apply(toString)\n",
    "\n",
    "after_2001 = df_kidnapping[df_kidnapping['Year']>=2002].dropna()\n",
    "\n",
    "# _____________________________________________\n",
    "\n",
    "lats = list(after_2001.Latitude)\n",
    "longs = list(after_2001.Longitude)\n",
    "locations = [lats,longs]\n",
    "\n",
    "m = folium.Map(\n",
    "    location=[np.mean(lats), np.mean(longs)],\n",
    "    zoom_start=10.3\n",
    ")\n",
    "\n",
    "plugins.Fullscreen(\n",
    "    position='topright',\n",
    "    title='Expand me',\n",
    "    title_cancel='Exit me',\n",
    "    force_separate_button=True).add_to(m)\n",
    "\n",
    "FastMarkerCluster(data=list(zip(lats, longs))).add_to(m)\n",
    "\n",
    "m.choropleth(\n",
    "    geo_data='chicago_police_districts.geojson',\n",
    "    name='choropleth',\n",
    "    data=df_kidnapping_after_2001,\n",
    "    columns=['District', 'Arrest'],\n",
    "    key_on='feature.properties.dist_num',\n",
    "    fill_color='YlOrRd', \n",
    "    fill_opacity=0.4, \n",
    "    line_opacity=0.2,\n",
    "    legend_name='Kidnappings : 2002 - 2018',\n",
    "    highlight=False\n",
    "    )\n",
    "\n",
    "# folium.TileLayer('openstreetmap').add_to(m)\n",
    "folium.TileLayer('cartodbpositron').add_to(m)\n",
    "folium.LayerControl().add_to(m)\n",
    "m.save(\"map9.html\") \n",
    "IFrame('map9.html', width=990, height=700)"
   ]
  },
  {
   "cell_type": "markdown",
   "metadata": {},
   "source": [
    "There are 3 major regions in which kidnappings occur"
   ]
  }
 ],
 "metadata": {
  "kernelspec": {
   "display_name": "Python 3",
   "language": "python",
   "name": "python3"
  },
  "language_info": {
   "codemirror_mode": {
    "name": "ipython",
    "version": 3
   },
   "file_extension": ".py",
   "mimetype": "text/x-python",
   "name": "python",
   "nbconvert_exporter": "python",
   "pygments_lexer": "ipython3",
   "version": "3.6.5"
  }
 },
 "nbformat": 4,
 "nbformat_minor": 2
}
